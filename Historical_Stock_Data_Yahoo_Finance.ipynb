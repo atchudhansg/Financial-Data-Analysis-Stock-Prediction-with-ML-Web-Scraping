{
  "nbformat": 4,
  "nbformat_minor": 0,
  "metadata": {
    "colab": {
      "provenance": []
    },
    "kernelspec": {
      "name": "python3",
      "display_name": "Python 3"
    },
    "language_info": {
      "name": "python"
    }
  },
  "cells": [
    {
      "cell_type": "code",
      "execution_count": null,
      "metadata": {
        "id": "N20_fJb8CSpc"
      },
      "outputs": [],
      "source": [
        "import time\n",
        "import datetime\n",
        "import pandas as pd"
      ]
    },
    {
      "cell_type": "code",
      "source": [
        "ticker='INR=X'\n",
        "period1=int(time.mktime(datetime.datetime(2003,1,1,23,59).timetuple()))\n",
        "period2=int(time.mktime(datetime.datetime(2020,4,28,23,59).timetuple()))\n",
        "interval='1d'\n",
        "query_string=f'https://query1.finance.yahoo.com/v7/finance/download/{ticker}?period1={period1}&period2={period2}&interval={interval}&events=history&includeAdjustedClose=true;'\n",
        "print(query_string)"
      ],
      "metadata": {
        "colab": {
          "base_uri": "https://localhost:8080/"
        },
        "id": "WHu43YFLDNys",
        "outputId": "c9b31c08-f7ae-4032-bd58-60d974d4fa0f"
      },
      "execution_count": null,
      "outputs": [
        {
          "output_type": "stream",
          "name": "stdout",
          "text": [
            "https://query1.finance.yahoo.com/v7/finance/download/INR=X?period1=1041465540&period2=1588118340&interval=1d&events=history&includeAdjustedClose=true;\n"
          ]
        }
      ]
    },
    {
      "cell_type": "code",
      "source": [],
      "metadata": {
        "id": "neX8bLCToO2b"
      },
      "execution_count": null,
      "outputs": []
    }
  ]
}